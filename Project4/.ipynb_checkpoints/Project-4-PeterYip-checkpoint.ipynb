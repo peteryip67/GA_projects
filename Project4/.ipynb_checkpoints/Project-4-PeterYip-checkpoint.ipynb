{
 "cells": [
  {
   "cell_type": "markdown",
   "metadata": {},
   "source": [
    "<img src=\"http://imgur.com/1ZcRyrc.png\" style=\"float: left; margin: 20px; height: 55px\">\n",
    "\n",
    "#  Final Project :  Probecard Indentification.\n",
    "\n",
    "_Authors: Peter Yip _\n",
    "\n",
    "---"
   ]
  },
  {
   "attachments": {},
   "cell_type": "markdown",
   "metadata": {},
   "source": [
    "## Final Project :  Probecard Indentification.\n",
    "\n",
    "\n",
    "\n",
    "### The Objective is to Identify the probe card ID  from a set of 11 test characteristic features. There are 4 probe cards for identification.\n",
    "### The data  collected are as follows :\n",
    "\n",
    "1. Freq1 \n",
    "2. Freq2 \n",
    "3. PRR_record\n",
    "4. Temperature coefficient\n",
    "5. Test_time\n",
    "6. Power_supply_current \n",
    "7. Propagation_delay\n",
    "8. Rise_time \n",
    "9. fall_time\n",
    "10. Resistance  \n",
    "11. Functional\n",
    "12. probecard \n",
    "\n",
    "\n",
    "### There are times when corrupted data occurs during power outrage ,  yielding bits of information  on the following parameters   : Freq1 , Freq2 , power supply current , propagation delay , Rise time, Fall time and resistance to establish the identity of the proe card. There are 4 different probecards in production use.\n",
    "\n",
    "### Goals and success metrics is to establish the identity of the probe card. Check for  any correlation or dependency  between the test parameters .\n",
    "\n",
    "### The data is generated  by me based on past testing  experiences . No permission is required for these data.\n",
    "\n",
    "### Pls refer to Probecard_master_list\n",
    "\n"
   ]
  }
 ],
 "metadata": {
  "anaconda-cloud": {},
  "kernelspec": {
   "display_name": "Python 3",
   "language": "python",
   "name": "python3"
  },
  "language_info": {
   "codemirror_mode": {
    "name": "ipython",
    "version": 3
   },
   "file_extension": ".py",
   "mimetype": "text/x-python",
   "name": "python",
   "nbconvert_exporter": "python",
   "pygments_lexer": "ipython3",
   "version": "3.6.4"
  }
 },
 "nbformat": 4,
 "nbformat_minor": 2
}
